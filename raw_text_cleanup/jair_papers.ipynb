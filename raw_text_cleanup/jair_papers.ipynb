{
 "metadata": {
  "name": "",
  "signature": "sha256:502931f3613919b44b189abdbb910c4df80775490bf0cea95b8522c06ff7089e"
 },
 "nbformat": 3,
 "nbformat_minor": 0,
 "worksheets": [
  {
   "cells": [
    {
     "cell_type": "code",
     "collapsed": false,
     "input": [
      "import BeautifulSoup\n",
      "import urllib2, os,re\n",
      "from BeautifulSoup import BeautifulSoup as Soup\n",
      "\n",
      "html = urllib2.urlopen('http://www.jair.org/contents.html').read()\n",
      "vol_year = Soup(html)\n",
      "years = vol_year.findAll(\"div\", {\"id\":'tableofcontents'})[0].findAll('li')\n",
      "for yr in years:\n",
      "    a_tag = yr.findAll(\"a\")[0] \n",
      "    vol_link = a_tag.get('href')\n",
      "    volume_num =  a_tag.renderContents().replace(\"Volume \",\"v\")\n",
      "    if not os.path.exists(\"/home/snifloo/jair/\" + volume_num):\n",
      "        os.makedirs(\"/home/snifloo/jair/\" + volume_num)\n",
      "    print volume_num\n",
      "    html_vol = \"http://www.jair.org/\" + vol_link\n",
      "    html = urllib2.urlopen(html_vol).read()\n",
      "    vol_page = Soup(html)\n",
      "    papers = vol_page.findAll('div', {\"class\": \"volumecontents\"})[0].findAll(\"div\")\n",
      "    for paper in papers:\n",
      "        paper_name = paper.findAll('meta', {'name': \"citation_title\"})[0].get('content').lower().replace(\" \",\"-\")\n",
      "        paper_name = re.sub(r'[^a-zA-Z0-9\\[\\]\\(\\)\\s\\-\\_]','', paper_name)\n",
      "        pdf_temp = paper.findAll('a')[1]\n",
      "        pdf_link = pdf_temp.get('href')\n",
      "        pdf_file = pdf_temp.renderContents()\n",
      "        if pdf_file!='PDF':\n",
      "            print \"Not a PDF file here \" + volume_num\n",
      "            continue\n",
      "        full_pdf_link = 'http://www.jair.org/' + pdf_link\n",
      "        try:\n",
      "            u = urllib2.urlopen(full_pdf_link)\n",
      "            pdf_link_mod = pdf_link.replace(\"/media/\",\"\")[9::].strip(\"-\").replace(\"-jair\",\"\")\n",
      "            localFile = open(\"/home/snifloo/jair/\" +volume_num + \"/\"+ volume_num + \"-\" +paper_name + \"-\" + pdf_link_mod,'w')\n",
      "            localFile.write(u.read())\n",
      "            localFile.close()\n",
      "        except urllib2.HTTPError:\n",
      "            print \"Http error for \" + full_pdf_link\n",
      "            pass"
     ],
     "language": "python",
     "metadata": {},
     "outputs": []
    }
   ],
   "metadata": {}
  }
 ]
}