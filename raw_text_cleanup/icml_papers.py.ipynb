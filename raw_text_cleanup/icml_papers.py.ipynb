{
 "metadata": {
  "name": "",
  "signature": "sha256:33b3c14b9e383fc7d6fc86ad78f13b6c8ed807532c1cdf82f4f6db1d393bac43"
 },
 "nbformat": 3,
 "nbformat_minor": 0,
 "worksheets": [
  {
   "cells": [
    {
     "cell_type": "code",
     "collapsed": false,
     "input": [
      "import BeautifulSoup\n",
      "import urllib2, os,re\n",
      "from BeautifulSoup import BeautifulSoup as Soup\n",
      "\n",
      "base_page= 'http://machinelearning.wustl.edu/mlpapers'\n",
      "html = urllib2.urlopen(base_page + '/venues').read()\n",
      "home_page = Soup(html)\n",
      "data_icml = home_page.findAll('body')[0].findAll('a')\n",
      "for item in data_icml:\n",
      "  content = item.renderContents()\n",
      "  if \"ICML\" in content:\n",
      "    print content\n",
      "    conf_name = item.renderContents()\n",
      "    year = conf_name[19:21]\n",
      "    if (int(year)==20): #for processing ones haven't done\n",
      "      base_path = \"/Users/jessicako/statnews/icml\"\n",
      "      new_dir = base_path + \"/\" + year\n",
      "      if not os.path.exists(new_dir):\n",
      "        os.makedirs(new_dir)\n",
      "      page_html = item.get('href')[1::]\n",
      "      html = urllib2.urlopen(base_page + page_html).read()\n",
      "      venue_page = Soup(html)\n",
      "      papers = venue_page.findAll('b')\n",
      "      for paper in papers:\n",
      "        paper = paper.findAll('a')[0]\n",
      "        paper_link = base_page + paper.get('href')[2::]\n",
      "        html = urllib2.urlopen(paper_link).read()\n",
      "        pdf_html = Soup(html)\n",
      "        pdf_link = pdf_html.findAll('b')[0].findAll('a')[0] \n",
      "        pdf_link_end = pdf_link.get('href') #end of pdf link    \n",
      "        name = pdf_link.renderContents()\n",
      "        name = name.lower()\n",
      "        name = re.sub(r'[^a-zA-Z0-9\\[\\]\\(\\)\\s]','', name).replace(' ', '-')\n",
      "        name = pdf_link_end.split('/')[-1][:-4:] + \".\" + name + \".pdf\"  #name of file to make\n",
      "        pdf_end = pdf_link_end[3::]\n",
      "        if \"doi.acm\" in pdf_end:\n",
      "          acm_page = \"http://\" + pdf_end[4::] \n",
      "          hdr = {'User-Agent': 'Mozilla/5.0'}\n",
      "          req = urllib2.Request(acm_page,headers=hdr)\n",
      "          html = urllib2.urlopen(req).read()\n",
      "          pdf_html = Soup(html)\n",
      "          \n",
      "          if len( pdf_html.findAll(title='FullText PDF'))==0:\n",
      "            print \"did not find \" + name   \n",
      "            continue\n",
      "          temp_link = pdf_html.findAll(title='FullText PDF')[0].get('href')\n",
      "          actual_pdf_link = \"http://dl.acm.org\" + \"/\" + temp_link\n",
      "        else:\n",
      "          actual_pdf_link = base_page + \"/\" + pdf_link_end.strip(\".\")\n",
      " #where the pdf is at\n",
      "        print actual_pdf_link\n",
      "        hdr = {'User-Agent': 'Mozilla/5.0'}\n",
      "        req = urllib2.Request(actual_pdf_link,headers=hdr)\n",
      "        u = urllib2.urlopen(req)\n",
      "        localFile = open(new_dir + \"/\" + name, 'w')\n",
      "        localFile.write(u.read())\n",
      "        localFile.close()\n",
      "       \n"
     ],
     "language": "python",
     "metadata": {},
     "outputs": [
      {
       "output_type": "stream",
       "stream": "stdout",
       "text": [
        "Proceedings of the 20th International Conference on Machine Learning (ICML-03) (115)\n",
        "http://machinelearning.wustl.edu/mlpapers//paper_files/icml2003_Zinkevich03.pdf"
       ]
      },
      {
       "output_type": "stream",
       "stream": "stdout",
       "text": [
        "\n",
        "http://machinelearning.wustl.edu/mlpapers//paper_files/icml2003_ZhuWC03.pdf"
       ]
      },
      {
       "output_type": "stream",
       "stream": "stdout",
       "text": [
        "\n",
        "http://machinelearning.wustl.edu/mlpapers//paper_files/icml2003_ZhuGL03.pdf"
       ]
      },
      {
       "output_type": "stream",
       "stream": "stdout",
       "text": [
        "\n",
        "http://machinelearning.wustl.edu/mlpapers//paper_files/icml2003_ZhangY03.pdf"
       ]
      },
      {
       "output_type": "stream",
       "stream": "stdout",
       "text": [
        "\n",
        "http://machinelearning.wustl.edu/mlpapers//paper_files/icml2003_ZhangXC03.pdf"
       ]
      },
      {
       "output_type": "stream",
       "stream": "stdout",
       "text": [
        "\n",
        "http://machinelearning.wustl.edu/mlpapers//paper_files/icml2003_ZhangJYH03.pdf"
       ]
      },
      {
       "output_type": "stream",
       "stream": "stdout",
       "text": [
        "\n",
        "http://machinelearning.wustl.edu/mlpapers//paper_files/icml2003_ZhangH03.pdf"
       ]
      },
      {
       "output_type": "stream",
       "stream": "stdout",
       "text": [
        "\n",
        "http://machinelearning.wustl.edu/mlpapers//paper_files/icml2003_ZhaZ03.pdf"
       ]
      },
      {
       "output_type": "stream",
       "stream": "stdout",
       "text": [
        "\n",
        "http://machinelearning.wustl.edu/mlpapers//paper_files/icml2003_YuL03.pdf"
       ]
      },
      {
       "output_type": "stream",
       "stream": "stdout",
       "text": [
        "\n",
        "http://machinelearning.wustl.edu/mlpapers//paper_files/icml2003_YanDMW03.pdf"
       ]
      },
      {
       "output_type": "stream",
       "stream": "stdout",
       "text": [
        "\n",
        "http://machinelearning.wustl.edu/mlpapers//paper_files/icml2003_YamadaSYT03.pdf"
       ]
      },
      {
       "output_type": "stream",
       "stream": "stdout",
       "text": [
        "\n",
        "http://machinelearning.wustl.edu/mlpapers//paper_files/icml2003_YamadaSU03.pdf"
       ]
      },
      {
       "output_type": "stream",
       "stream": "stdout",
       "text": [
        "\n",
        "http://machinelearning.wustl.edu/mlpapers//paper_files/icml2003_WuS03.pdf"
       ]
      },
      {
       "output_type": "stream",
       "stream": "stdout",
       "text": [
        "\n",
        "http://machinelearning.wustl.edu/mlpapers//paper_files/icml2003_WuC03.pdf"
       ]
      },
      {
       "output_type": "stream",
       "stream": "stdout",
       "text": [
        "\n",
        "http://machinelearning.wustl.edu/mlpapers//paper_files/icml2003_WongMCW03.pdf"
       ]
      },
      {
       "output_type": "stream",
       "stream": "stdout",
       "text": [
        "\n",
        "http://machinelearning.wustl.edu/mlpapers//paper_files/icml2003_WinnerV03.pdf"
       ]
      },
      {
       "output_type": "stream",
       "stream": "stdout",
       "text": [
        "\n",
        "http://machinelearning.wustl.edu/mlpapers//paper_files/icml2003_WiewioraCE03.pdf"
       ]
      },
      {
       "output_type": "stream",
       "stream": "stdout",
       "text": [
        "\n",
        "http://machinelearning.wustl.edu/mlpapers//paper_files/icml2003_WangSPZ03.pdf"
       ]
      },
      {
       "output_type": "stream",
       "stream": "stdout",
       "text": [
        "\n",
        "http://machinelearning.wustl.edu/mlpapers//paper_files/icml2003_WangD03.pdf"
       ]
      },
      {
       "output_type": "stream",
       "stream": "stdout",
       "text": [
        "\n",
        "http://machinelearning.wustl.edu/mlpapers//paper_files/icml2003_VovkNG03.pdf"
       ]
      },
      {
       "output_type": "stream",
       "stream": "stdout",
       "text": [
        "\n",
        "http://machinelearning.wustl.edu/mlpapers//paper_files/icml2003_VishwanathanSM03.pdf"
       ]
      },
      {
       "output_type": "stream",
       "stream": "stdout",
       "text": [
        "\n",
        "http://machinelearning.wustl.edu/mlpapers//paper_files/icml2003_ValentiniD03.pdf"
       ]
      },
      {
       "output_type": "stream",
       "stream": "stdout",
       "text": [
        "\n",
        "http://machinelearning.wustl.edu/mlpapers//paper_files/icml2003_TaskarWK03.pdf"
       ]
      },
      {
       "output_type": "stream",
       "stream": "stdout",
       "text": [
        "\n",
        "http://machinelearning.wustl.edu/mlpapers//paper_files/icml2003_Strens03.pdf"
       ]
      },
      {
       "output_type": "stream",
       "stream": "stdout",
       "text": [
        "\n",
        "http://machinelearning.wustl.edu/mlpapers//paper_files/icml2003_StimpsonG03.pdf"
       ]
      }
     ]
    },
    {
     "cell_type": "code",
     "collapsed": false,
     "input": [],
     "language": "python",
     "metadata": {},
     "outputs": []
    }
   ],
   "metadata": {}
  }
 ]
}