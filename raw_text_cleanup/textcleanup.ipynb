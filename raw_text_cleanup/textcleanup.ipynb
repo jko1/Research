{
 "metadata": {
  "name": "",
  "signature": "sha256:b438e804319d04b462b85a9bcdc069315c9d9e51bca242517696584042816ab7"
 },
 "nbformat": 3,
 "nbformat_minor": 0,
 "worksheets": [
  {
   "cells": [
    {
     "cell_type": "code",
     "collapsed": false,
     "input": [
      "\"\"\"\n",
      "python text_cleanup.py inputfile.txt outputfile.txt\n",
      "\"\"\"\n",
      "import re,sys\n",
      "text=\"\"\n",
      "dash = False\n",
      "with open(sys.argv[1] ,'r') as file:\n",
      "    for line in file:\n",
      "        if not re.match(r'^\\s*$', line): #lines that aren't blank       \n",
      "            if dash and line[0].isalpha(): \n",
      "            #previous line ended with a dash and current line has a letter\n",
      "                text = text[:-2] #removing previous line's dash/newline\n",
      "            dash = False\n",
      "            text+= line\n",
      "            if len(line)>=3 and line[-2]=='-' and line[-3].isalpha():\n",
      "                # line has dash at the end and a letter before dash\n",
      "                dash = True\n",
      "outputfile=open(sys.argv[2] , 'w+')\n",
      "text = re.sub('[^0-9a-zA-Z]+', ' ', text) #Replaces non-alphanumeric\n",
      "text = re.sub('[0-9]+', ' ', text) #Replaces numbers\n",
      "words = text.split()\n",
      "for i in range(len(words)):\n",
      "    if (not (len(words[i])<3)):\n",
      "        outputfile.write(words[i] + \" \")\n",
      "\n"
     ],
     "language": "python",
     "metadata": {},
     "outputs": []
    }
   ],
   "metadata": {}
  }
 ]
}